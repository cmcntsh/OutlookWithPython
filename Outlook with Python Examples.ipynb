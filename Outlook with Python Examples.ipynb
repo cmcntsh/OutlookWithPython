{
 "cells": [
  {
   "cell_type": "code",
   "execution_count": null,
   "metadata": {},
   "outputs": [],
   "source": [
    "# open Outlook using Python\n",
    "#import os\n",
    "#os.startfile(\"outlook\")\n",
    "\n",
    "# Close program using Python\n",
    "# https://stackoverflow.com/questions/5625524/how-to-close-a-program-using-python\n",
    "# https://www.codeforests.com/2020/07/04/python-close-windows-process/"
   ]
  },
  {
   "cell_type": "code",
   "execution_count": null,
   "metadata": {},
   "outputs": [],
   "source": [
    "import win32com.client\n",
    "import re\n",
    "import pandas as pd\n",
    "from pandas import ExcelWriter\n",
    "from pandas import ExcelFile\n",
    "import os\n",
    "from datetime import datetime"
   ]
  },
  {
   "cell_type": "code",
   "execution_count": null,
   "metadata": {},
   "outputs": [],
   "source": [
    "# https://docs.microsoft.com/en-us/office/vba/api/overview/outlook\n",
    "# https://docs.microsoft.com/en-us/office/vba/outlook/concepts/forms/outlook-fields-and-equivalent-properties\n",
    "# https://docs.microsoft.com/en-us/office/vba/outlook/concepts/forms/standard-fields-overview\n",
    "\n",
    "\n",
    "\n",
    "outlook = win32com.client.Dispatch(\"Outlook.Application\").GetNamespace(\"MAPI\")\n",
    "for account in outlook.Accounts:\n",
    "    print(account.DeliveryStore.DisplayName)\n",
    "    print(account)\n",
    "    #print(\"Inbox\", outlook.Folders.Item(str(account)).Folders.Item(\"Inbox\").Items.Count)\n",
    "    for folder in outlook.Folders.Item(str(account)).Folders:\n",
    "        print(folder, outlook.Folders.Item(str(account)).Folders.Item(str(folder)).Items.Count)"
   ]
  },
  {
   "cell_type": "code",
   "execution_count": null,
   "metadata": {},
   "outputs": [],
   "source": [
    "for account in outlook.Accounts:\n",
    "    print(account.DeliveryStore.DisplayName)\n",
    "    print(account)\n",
    "    print(\"Inbox\", outlook.Folders.Item(str(account)).Folders.Item(\"Inbox\").Items.Count)\n",
    "    inbox = outlook.Folders.Item(str(account)).Folders.Item(\"Inbox\")\n",
    "    msgs = inbox.Items\n",
    "    \n",
    "    # It seems to move (or delete) messages correctly they need to be done in reverse order.\n",
    "    # https://stackoverflow.com/questions/53523943/python-win32com-delete-multiple-emails-in-outlook\n",
    "   \n",
    "    for msg in reversed(msgs):\n",
    "        print(msg.Subject)\n",
    "        #print(msg.SentOnBehalfOfName)\n",
    "        #print(msg.To)\n",
    "        #print(msg.Body)\n",
    "        #print(msg.Importance)\n",
    "        #print(msg.CreationTime)\n",
    "        #print(msg.SentOn)\n",
    "        #print(msg.ReceivedTime)\n",
    "        #print(msg.LastModificationTime)\n",
    "        #print(msg.Attachments)\n",
    "        #print(msg.CC)\n",
    "        #print(msg.BCC)\n",
    "        #print(msg.ReplyRecipientNames)\n",
    "        #print(msg.Parent)\n",
    "        #print(msg.MessageClass)\n",
    "        #print(msg.FlagStatus)\n",
    "        #print(msg.Sensitivity)\n",
    "        #print(msg.UnRead)\n",
    "        #print(msg.Size)\n",
    "        #print(msg.SenderEmailAddress)\n",
    "        #print(msg.Recipients)\n",
    "        \n",
    "        # The command below will move the message to the Deleted Items folder.\n",
    "        #msg.Move(folder.Folders.Item(\"Deleted Items\"))\n",
    "\n"
   ]
  },
  {
   "cell_type": "code",
   "execution_count": null,
   "metadata": {},
   "outputs": [],
   "source": [
    "for account in outlook.Accounts:\n",
    "    print(account.DeliveryStore.DisplayName)\n",
    "    print(account)\n",
    "    print(\"Inbox\", outlook.Folders.Item(str(account)).Folders.Item(\"Inbox\").Items.Count)\n",
    "    inbox = outlook.Folders.Item(str(account)).Folders.Item(\"Inbox\")\n",
    "    msgs = inbox.Items\n",
    "    \n",
    "    msg_counts = {}\n",
    "    \n",
    "    # It seems to move (or delete) messages correctly they need to be done in reverse order.\n",
    "    # https://stackoverflow.com/questions/53523943/python-win32com-delete-multiple-emails-in-outlook\n",
    "   \n",
    "    for msg in reversed(msgs):\n",
    "        \n",
    "        if msg.Subject not in msg_counts:\n",
    "            find = re.search('NCID Value :(.*)', msg.Subject)\n",
    "            ncid = find.group(1) if find else \"NCID not found\"\n",
    "            msg_counts[msg.Subject] = [msg.Body,1,ncid]\n",
    "    else:\n",
    "            msg_counts[msg.Subject][1] += 1\n",
    "\n",
    "        \n",
    "msg_counts \n",
    "\n",
    "# switch the dictionary for a dataframe before saving to Excel file\n",
    "countsdf = pd.DataFrame.from_dict(msg_counts, orient = 'index')\n",
    "countsdf.reset_index(inplace=True)\n",
    "countsdf.columns = ['subject','message', 'count', 'NCID']\n",
    "countsdf = countsdf.sort_values(by='count', ascending=False)\n",
    "countsdf"
   ]
  },
  {
   "cell_type": "code",
   "execution_count": null,
   "metadata": {},
   "outputs": [],
   "source": [
    "# get path for current user\n",
    "homepath = os.getenv('USERPROFILE')\n",
    "\n",
    "# get the current time to name file\n",
    "now = datetime.now()\n",
    "\n",
    "# YYYY-mm-dd-H-M-S\n",
    "dt_string = now.strftime(\"%Y-%m-%d-%H-%M-%S\")\n",
    "\n",
    "# path for final report. We'll define an Excel writer object and the target file\n",
    "Excelwriter = pd.ExcelWriter(homepath + '\\\\Desktop\\\\' + dt_string + '_testOutput.xlsx',engine=\"xlsxwriter\")\n",
    "\n",
    "countsdf.to_excel(Excelwriter, sheet_name=\"counts\",index=False)\n",
    "\n",
    "Excelwriter.save()\n",
    "\n",
    "print(\"Done.\")"
   ]
  }
 ],
 "metadata": {
  "kernelspec": {
   "display_name": "Python 3",
   "language": "python",
   "name": "python3"
  },
  "language_info": {
   "codemirror_mode": {
    "name": "ipython",
    "version": 3
   },
   "file_extension": ".py",
   "mimetype": "text/x-python",
   "name": "python",
   "nbconvert_exporter": "python",
   "pygments_lexer": "ipython3",
   "version": "3.8.5"
  }
 },
 "nbformat": 4,
 "nbformat_minor": 4
}
